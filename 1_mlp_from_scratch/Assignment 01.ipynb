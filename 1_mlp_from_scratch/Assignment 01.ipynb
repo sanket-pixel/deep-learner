{
 "cells": [
  {
   "cell_type": "markdown",
   "id": "equivalent-surname",
   "metadata": {},
   "source": [
    "Assignment 01\\\n",
    "Group Members :\\\n",
    "    1. Sanket Rajendra Shah (3314026) \\\n",
    "    2. Rahul Kumar (3205783) "
   ]
  },
  {
   "cell_type": "code",
   "execution_count": 8,
   "id": "mighty-lying",
   "metadata": {},
   "outputs": [],
   "source": [
    "import numpy as np\n",
    "from mnist import MNIST\n",
    "from matplotlib import pyplot as plt"
   ]
  },
  {
   "cell_type": "code",
   "execution_count": 9,
   "id": "hungarian-timer",
   "metadata": {},
   "outputs": [],
   "source": [
    "mndata = MNIST(\"data\")\n",
    "train_images, train_labels = np.array(mndata.load_training()[0]),  np.array(mndata.load_training()[1])\n",
    "test_images, test_labels = np.array(mndata.load_testing()[0]), np.array(mndata.load_testing()[1])\n",
    "\n",
    "# preprocess training and validation set\n",
    "X = train_images/255.0\n",
    "x_train = np.ones((X.shape[0],X.shape[1]+1))\n",
    "x_train[:,:-1] = X\n",
    "y_train = np.zeros((train_labels.size, 10))\n",
    "y_train[np.arange(train_labels.size), train_labels] = 1\n",
    "x_val = x_train[:-10000]\n",
    "y_val = y_train[:-10000]\n",
    "x_train = x_train[:50000]\n",
    "y_train = y_train[:50000]\n"
   ]
  },
  {
   "cell_type": "code",
   "execution_count": 10,
   "id": "executed-peeing",
   "metadata": {},
   "outputs": [],
   "source": [
    "\n",
    "# preprocess testing set\n",
    "X = test_images/255.0\n",
    "x_test = np.ones((X.shape[0],X.shape[1]+1))\n",
    "x_test[:,:-1] = X\n",
    "y_test = np.zeros((test_labels.size, 10))\n",
    "y_test[np.arange(test_labels.size), test_labels] = 1\n"
   ]
  },
  {
   "cell_type": "code",
   "execution_count": 14,
   "id": "material-shepherd",
   "metadata": {},
   "outputs": [],
   "source": [
    "class NeuralNetwork():\n",
    "    def __init__(self,sizes,batch_size,l_rate=0.001,epochs=10):\n",
    "        self.sizes = sizes\n",
    "        self.batch_size = batch_size\n",
    "        self.epochs = epochs\n",
    "        self.l_rate = l_rate\n",
    "        self.weights = self.weight_initialization()\n",
    "\n",
    "    def sigmoid(self,x,derivative=False):\n",
    "        if derivative:\n",
    "            return (np.exp(-x)) / ((np.exp(-x) + 1) ** 2)\n",
    "        return 1 / (1 + np.exp(-x))\n",
    "\n",
    "    def softmax(self,x,derivative=False):\n",
    "        exps = np.exp(x - x.max())\n",
    "        if derivative:\n",
    "            return exps / np.sum(exps, axis=0) * (1 - exps / np.sum(exps, axis=0))\n",
    "        return exps / np.sum(exps, axis=0)\n",
    "\n",
    "    def weight_initialization(self):\n",
    "        input_layer = self.sizes[0]\n",
    "        hidden_1 = self.sizes[1]\n",
    "        output_layer = self.sizes[2]\n",
    "        weights = {\n",
    "            'W1': np.random.randn(hidden_1, input_layer) * np.sqrt(1. / hidden_1),\n",
    "            'W2': np.random.randn(output_layer, hidden_1) * np.sqrt(1. / output_layer),\n",
    "        }\n",
    "\n",
    "        return weights\n",
    "\n",
    "    def forward_pass(self,x_train):\n",
    "        weights = self.weights\n",
    "        weights['A0'] = x_train\n",
    "\n",
    "        weights['Z1']  = np.dot(weights['W1'],weights['A0'])\n",
    "        weights['A1'] = self.sigmoid(weights['Z1'])\n",
    "\n",
    "        weights['Z2'] = np.dot(weights['W2'],weights['A1'])\n",
    "        weights['A2'] = self.softmax(weights['Z2'])\n",
    "\n",
    "        return weights['A2']\n",
    "\n",
    "    def backpropogation(self,y_train,output):\n",
    "        weights = self.weights\n",
    "        update_w = {}\n",
    "\n",
    "        delta = 2 * ( output - y_train ) / output.shape[0] * self.softmax(weights['Z2'], derivative=True)\n",
    "        update_w['W2'] = np.outer(delta, weights['A1'])\n",
    "\n",
    "        delta = np.dot(weights['W2'].T, delta)*self.sigmoid(weights['Z1'],derivative=True)\n",
    "        update_w['W1'] = np.outer(delta, weights['A0'])\n",
    "\n",
    "        return update_w\n",
    "\n",
    "    def update_weights(self, update_w):\n",
    "        for param, update in update_w.items():\n",
    "            self.weights[param] -= self.l_rate * update\n",
    "\n",
    "    def accuracy(self, x_val, y_val):\n",
    "        predictions = []\n",
    "        for x, y in zip(x_val, y_val):\n",
    "            output = self.forward_pass(x)\n",
    "            pred = np.argmax(output)\n",
    "            predictions.append(pred == np.argmax(y))\n",
    "        return np.mean(predictions)\n",
    "\n",
    "    def train(self, x_train, y_train, x_val, y_val):\n",
    "        validation_accuracy = []\n",
    "        for iteration in range(self.epochs):\n",
    "            for x, y in zip(x_train, y_train):\n",
    "                output = self.forward_pass(x)\n",
    "                update_w = self.backpropogation(y, output)\n",
    "                self.update_weights(update_w)\n",
    "            accuracy = self.accuracy(x_val, y_val)\n",
    "            validation_accuracy.append(accuracy)\n",
    "            print('Epoch: {0} ',iteration ,'Accuracy: ', accuracy*100)\n",
    "        return validation_accuracy\n",
    "    def test(self, x_test, y_test):\n",
    "        predictions = []\n",
    "        for x, y in zip(x_test, y_test):\n",
    "            output = self.forward_pass(x)\n",
    "            pred = np.argmax(output)\n",
    "            predictions.append(pred == np.argmax(y))\n",
    "        return np.mean(predictions)\n"
   ]
  },
  {
   "cell_type": "code",
   "execution_count": 15,
   "id": "third-copying",
   "metadata": {},
   "outputs": [
    {
     "name": "stdout",
     "output_type": "stream",
     "text": [
      "Epoch: {0}  0 Accuracy:  37.446\n",
      "Epoch: {0}  1 Accuracy:  50.644\n",
      "Epoch: {0}  2 Accuracy:  59.718\n",
      "Epoch: {0}  3 Accuracy:  65.944\n",
      "Epoch: {0}  4 Accuracy:  69.554\n",
      "Epoch: {0}  5 Accuracy:  72.048\n",
      "Epoch: {0}  6 Accuracy:  73.75\n",
      "Epoch: {0}  7 Accuracy:  75.02600000000001\n",
      "Epoch: {0}  8 Accuracy:  75.952\n",
      "Epoch: {0}  9 Accuracy:  76.77199999999999\n"
     ]
    }
   ],
   "source": [
    "nn = NeuralNetwork([785,65,10],20)\n",
    "validation_accuracy = nn.train(x_train , y_train, x_val, y_val)\n",
    "testing_accuracy = nn.test(x_test,y_test)"
   ]
  },
  {
   "cell_type": "code",
   "execution_count": 16,
   "id": "opposed-serve",
   "metadata": {},
   "outputs": [
    {
     "data": {
      "image/png": "[encoded data removed]",
      "text/plain": [
       "<Figure size 432x288 with 1 Axes>"
      ]
     },
     "metadata": {
      "needs_background": "light"
     },
     "output_type": "display_data"
    }
   ],
   "source": [
    "plt.plot(np.arange(len(validation_accuracy)),validation_accuracy)\n",
    "plt.show()"
   ]
  },
  {
   "cell_type": "code",
   "execution_count": 17,
   "id": "unique-wallace",
   "metadata": {},
   "outputs": [
    {
     "name": "stdout",
     "output_type": "stream",
     "text": [
      "The accuracy on the test set is  0.7821\n"
     ]
    }
   ],
   "source": [
    "print(\"The accuracy on the test set is \", testing_accuracy)"
   ]
  },
  {
   "cell_type": "code",
   "execution_count": null,
   "id": "wanted-bargain",
   "metadata": {},
   "outputs": [],
   "source": []
  }
 ],
 "metadata": {
  "kernelspec": {
   "display_name": "Python 3",
   "language": "python",
   "name": "python3"
  },
  "language_info": {
   "codemirror_mode": {
    "name": "ipython",
    "version": 3
   },
   "file_extension": ".py",
   "mimetype": "text/x-python",
   "name": "python",
   "nbconvert_exporter": "python",
   "pygments_lexer": "ipython3",
   "version": "3.6.9"
  }
 },
 "nbformat": 4,
 "nbformat_minor": 5
}
